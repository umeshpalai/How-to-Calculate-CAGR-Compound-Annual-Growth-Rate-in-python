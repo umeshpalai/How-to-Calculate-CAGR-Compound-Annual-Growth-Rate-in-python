{
 "cells": [
  {
   "cell_type": "markdown",
   "metadata": {},
   "source": [
    "# How to Calculate Compound Annual Growth Rate – CAGR"
   ]
  },
  {
   "cell_type": "markdown",
   "metadata": {},
   "source": [
    "### Creating a function to Calculate Compound Annual Growth Rate – CAGR"
   ]
  },
  {
   "cell_type": "markdown",
   "metadata": {},
   "source": [
    "What Is Compound Annual Growth Rate – CAGR?\n",
    "\n",
    "Compound annual growth rate (CAGR) is the rate of return that would be required for an investment to grow from its beginning balance to its ending balance, assuming the profits were reinvested at the end of each year of the investment’s lifespan."
   ]
  },
  {
   "cell_type": "code",
   "execution_count": 1,
   "metadata": {},
   "outputs": [
    {
     "name": "stdout",
     "output_type": "stream",
     "text": [
      "Start Value: 100000\n",
      "End Value: 500000\n",
      "How many years from beginning to the end: 5\n",
      "Your investment had a CAGR of 37.97% \n"
     ]
    }
   ],
   "source": [
    "start = float(input('Start Value: '))\n",
    "end = float(input('End Value: '))\n",
    "periods = float(input('How many years from beginning to the end: '))\n",
    "    \n",
    "def CAGR(start, end, periods):\n",
    "    return (end/start)**(1/periods)-1\n",
    "\n",
    "print ('Your investment had a CAGR of {:.2%} '.format(CAGR(start, end, periods)))"
   ]
  },
  {
   "cell_type": "markdown",
   "metadata": {},
   "source": [
    "END!"
   ]
  }
 ],
 "metadata": {
  "kernelspec": {
   "display_name": "Python 3",
   "language": "python",
   "name": "python3"
  },
  "language_info": {
   "codemirror_mode": {
    "name": "ipython",
    "version": 3
   },
   "file_extension": ".py",
   "mimetype": "text/x-python",
   "name": "python",
   "nbconvert_exporter": "python",
   "pygments_lexer": "ipython3",
   "version": "3.7.4"
  }
 },
 "nbformat": 4,
 "nbformat_minor": 2
}
